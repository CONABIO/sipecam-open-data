{
 "cells": [
  {
   "cell_type": "markdown",
   "id": "d4efa2fc",
   "metadata": {},
   "source": [
    "# References"
   ]
  },
  {
   "cell_type": "markdown",
   "id": "3b744dc1",
   "metadata": {},
   "source": [
    "https://boto3.amazonaws.com/v1/documentation/api/latest/reference/services/s3.html#s3"
   ]
  },
  {
   "cell_type": "code",
   "execution_count": null,
   "id": "1ee118ae",
   "metadata": {},
   "outputs": [],
   "source": [
    "import boto3\n",
    "from PIL import Image\n",
    "from io import BytesIO"
   ]
  },
  {
   "cell_type": "code",
   "execution_count": null,
   "id": "3d11cf0c",
   "metadata": {},
   "outputs": [],
   "source": [
    "s3_client = boto3.client('s3')"
   ]
  },
  {
   "cell_type": "code",
   "execution_count": null,
   "id": "25e2e4a1",
   "metadata": {},
   "outputs": [],
   "source": [
    "BUCKET_NAME = \"sipecam-open-data\""
   ]
  },
  {
   "cell_type": "markdown",
   "id": "8977b15a",
   "metadata": {},
   "source": [
    "## List objects in bucket"
   ]
  },
  {
   "cell_type": "code",
   "execution_count": null,
   "id": "39ea10ae",
   "metadata": {},
   "outputs": [],
   "source": [
    "response = s3_client.list_objects_v2(Bucket=BUCKET_NAME)"
   ]
  },
  {
   "cell_type": "code",
   "execution_count": null,
   "id": "c473c67b",
   "metadata": {
    "scrolled": true
   },
   "outputs": [],
   "source": [
    "response[\"Contents\"]"
   ]
  },
  {
   "cell_type": "markdown",
   "id": "4db5aeeb",
   "metadata": {},
   "source": [
    "## Get objects in bucket"
   ]
  },
  {
   "cell_type": "code",
   "execution_count": null,
   "id": "360f14d3",
   "metadata": {},
   "outputs": [],
   "source": [
    "path = \"data/92/3_92_0_1341/HLPXGM09048271/2021-11-14/images_videos/01e5df3a9e18ae813fd3efb25cbb8045_0092.JPG\""
   ]
  },
  {
   "cell_type": "code",
   "execution_count": null,
   "id": "4a0b1627",
   "metadata": {},
   "outputs": [],
   "source": [
    "obj = s3_client.get_object(Bucket=BUCKET_NAME, Key=path)\n",
    "image_stream = obj['Body'].read()\n",
    "image = Image.open(BytesIO(image_stream))\n",
    "\n",
    "print(f\"\"\"Width: {image.width}\n",
    "Height: {image.height}\"\"\")"
   ]
  },
  {
   "cell_type": "code",
   "execution_count": null,
   "id": "00d4161e",
   "metadata": {},
   "outputs": [],
   "source": [
    "display(image)"
   ]
  }
 ],
 "metadata": {
  "kernelspec": {
   "display_name": "Python 3 (ipykernel)",
   "language": "python",
   "name": "python3"
  },
  "language_info": {
   "codemirror_mode": {
    "name": "ipython",
    "version": 3
   },
   "file_extension": ".py",
   "mimetype": "text/x-python",
   "name": "python",
   "nbconvert_exporter": "python",
   "pygments_lexer": "ipython3",
   "version": "3.8.10"
  }
 },
 "nbformat": 4,
 "nbformat_minor": 5
}
