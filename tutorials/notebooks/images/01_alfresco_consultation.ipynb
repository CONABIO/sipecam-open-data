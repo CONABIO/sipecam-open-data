{
 "cells": [
  {
   "cell_type": "markdown",
   "id": "518f548e",
   "metadata": {},
   "source": [
    "# Pre-requisites - IMPORTANT!!!\n",
    "\n",
    "In order to run properly this notebook, you need to:\n",
    "\n",
    "1. Mount your webdav.  You can find the tutorial under the folder `notebooks/howto`\n",
    "2. Have a `.env` at the root of your project (You can use `.env.example` with the values on it)"
   ]
  },
  {
   "cell_type": "code",
   "execution_count": 1,
   "id": "b9ed3a4d",
   "metadata": {},
   "outputs": [],
   "source": [
    "import os\n",
    "import numpy as np\n",
    "from dotenv import load_dotenv, dotenv_values\n",
    "\n",
    "from conabio.src.utils.save import save_json, save_list_as_csv\n",
    "from conabio.src.utils.search import search_image_by_cumulus\n",
    "from conabio.src.login.user import set_environment, MAX_ITEMS\n",
    "from conabio.src.utils.read import read_json"
   ]
  },
  {
   "cell_type": "markdown",
   "id": "ad642bc4",
   "metadata": {},
   "source": [
    "### Load the environment set at the root (.env)"
   ]
  },
  {
   "cell_type": "code",
   "execution_count": null,
   "id": "01aa433b",
   "metadata": {},
   "outputs": [],
   "source": [
    "load_dotenv()\n",
    "CONFIG = dotenv_values()"
   ]
  },
  {
   "cell_type": "markdown",
   "id": "60c780ba",
   "metadata": {},
   "source": [
    "### Configure your variables:\n",
    "\n",
    "- The cumulus you want to extract images\n",
    "\n",
    "- The output path were the results are going to be saved\n",
    "\n",
    "- Mounting webdav path"
   ]
  },
  {
   "cell_type": "code",
   "execution_count": null,
   "id": "872460b8",
   "metadata": {},
   "outputs": [],
   "source": [
    "CUMULUS = 92\n",
    "OUTPUT_PATH = \"../../results/search/\"\n",
    "MOUNTING_PATH = \"/shared_volume/webdav_alfresco/\""
   ]
  },
  {
   "cell_type": "markdown",
   "id": "1896bfe2",
   "metadata": {},
   "source": [
    "Create the output path if not exists "
   ]
  },
  {
   "cell_type": "code",
   "execution_count": null,
   "id": "b0e452ef",
   "metadata": {},
   "outputs": [],
   "source": [
    "path_exists = os.path.exists(OUTPUT_PATH)\n",
    "if not path_exists:\n",
    "    os.makedirs(OUTPUT_PATH, exist_ok=False)"
   ]
  },
  {
   "cell_type": "code",
   "execution_count": null,
   "id": "f5b7ebc7",
   "metadata": {
    "scrolled": false
   },
   "outputs": [],
   "source": [
    "if CONFIG.get(\"ALFRESCO_API_ENDPOINT\") is None or CONFIG.get(\"ALFRESCO_API_KEY\") is None:\n",
    "    raise Exception(\"Keys not detected\")\n",
    "else:\n",
    "    skipcount = 0\n",
    "    end_of_pagination = False\n",
    "    saved_files = []\n",
    "    \n",
    "    # A cumulus can have more than the MAX_ITEMS allowed in the pagination, so\n",
    "    # a loop is necessary.\n",
    "    while not end_of_pagination:\n",
    "        # The search result is going to be without any date limitation\n",
    "\n",
    "        result = search_image_by_cumulus(CUMULUS, config=CONFIG, skipcount=skipcount)\n",
    "        try:\n",
    "            if not result[\"list\"][\"pagination\"][\"hasMoreItems\"]:\n",
    "                end_of_pagination = True\n",
    "        except:\n",
    "            if result[\"error\"]:\n",
    "                raise Exception(result[\"error\"])\n",
    "\n",
    "        file_name = f\"{OUTPUT_PATH}/search_result_{CUMULUS}_{skipcount}.json\"\n",
    "        # Every pagination will be saved as a json\n",
    "        save_json(result, file_name)\n",
    "        saved_files.append(file_name)\n",
    "        skipcount += MAX_ITEMS\n",
    "        \n",
    "        \n",
    "    path_list = []\n",
    "    \n",
    "    # Afterward we only want to extract the path in order to find easily the images\n",
    "    for json_file in saved_files:\n",
    "        result = read_json(json_file)\n",
    "\n",
    "        totalItems = result[\"list\"][\"pagination\"][\"totalItems\"]\n",
    "        entries_list = (result[\"list\"][\"entries\"])\n",
    "\n",
    "        for entry in entries_list:\n",
    "            complete_path = f'{entry[\"entry\"][\"path\"][\"name\"]}/{entry[\"entry\"][\"name\"]}'\n",
    "            \n",
    "            # This replacement name will depend on your mounting path.\n",
    "            complete_path = complete_path.replace(\"/Company Home/\", MOUNTING_PATH)\n",
    "            path_list.append([complete_path])\n",
    "    \n",
    "    path_csv = f\"{OUTPUT_PATH}/images_path_{CUMULUS}.csv\"\n",
    "    save_list_as_csv(path_csv, [\"item\"], path_list)"
   ]
  }
 ],
 "metadata": {
  "kernelspec": {
   "display_name": "Python 3 (ipykernel)",
   "language": "python",
   "name": "python3"
  },
  "language_info": {
   "codemirror_mode": {
    "name": "ipython",
    "version": 3
   },
   "file_extension": ".py",
   "mimetype": "text/x-python",
   "name": "python",
   "nbconvert_exporter": "python",
   "pygments_lexer": "ipython3",
   "version": "3.8.10"
  }
 },
 "nbformat": 4,
 "nbformat_minor": 5
}
