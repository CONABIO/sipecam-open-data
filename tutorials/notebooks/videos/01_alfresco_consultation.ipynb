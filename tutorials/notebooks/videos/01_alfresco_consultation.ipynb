{
 "cells": [
  {
   "cell_type": "markdown",
   "id": "6dd46f68",
   "metadata": {},
   "source": [
    "# Pre-requisites - IMPORTANT!!!\n",
    "\n",
    "In order to run properly this notebook, you need to:\n",
    "\n",
    "1. Have a `.env` at the root of your project (You can use `.env.example` with the values on it)\n",
    "2. Run `export PYTHONPATH=$PWD` in the root of the project"
   ]
  },
  {
   "cell_type": "code",
   "execution_count": 1,
   "id": "b221da7d",
   "metadata": {},
   "outputs": [],
   "source": [
    "from dotenv import load_dotenv, dotenv_values"
   ]
  },
  {
   "cell_type": "code",
   "execution_count": 2,
   "id": "325bf5bb",
   "metadata": {},
   "outputs": [],
   "source": [
    "from conabio.src.utils.search import SipecamAlfresco, parse_range_date_to_query_value"
   ]
  },
  {
   "cell_type": "markdown",
   "id": "bdc2d75e",
   "metadata": {},
   "source": [
    "### Load the environment set at the root (.env)"
   ]
  },
  {
   "cell_type": "code",
   "execution_count": 3,
   "id": "5d54d761",
   "metadata": {},
   "outputs": [],
   "source": [
    "load_dotenv()\n",
    "CONFIG = dotenv_values()"
   ]
  },
  {
   "cell_type": "markdown",
   "id": "7b2e4603",
   "metadata": {},
   "source": [
    "### Parameters"
   ]
  },
  {
   "cell_type": "markdown",
   "id": "4b986ad4",
   "metadata": {},
   "source": [
    "- The cumulus you want to extract the videos from\n",
    "\n",
    "- Date intervals you want the videos from \n",
    "\n",
    "- The output path were the results are going to be saved\n"
   ]
  },
  {
   "cell_type": "code",
   "execution_count": 4,
   "id": "3713eed0",
   "metadata": {},
   "outputs": [],
   "source": [
    "CUMULUS = 92\n",
    "MIN_DATE = \"2021-11-01\" \n",
    "MAX_DATE = \"2021-12-01\" \n",
    "\n",
    "OUTPUT_PATH = \"../../../results/search\"\n",
    "FILE_TYPE = \"Video\""
   ]
  },
  {
   "cell_type": "markdown",
   "id": "a91d63d2",
   "metadata": {},
   "source": [
    "### Constants"
   ]
  },
  {
   "cell_type": "code",
   "execution_count": 5,
   "id": "93f39bc1",
   "metadata": {},
   "outputs": [],
   "source": [
    "BUCKET_NAME = \"sipecam-open-data\""
   ]
  },
  {
   "cell_type": "markdown",
   "id": "00fd7572",
   "metadata": {},
   "source": [
    "## Create the Sipecam object"
   ]
  },
  {
   "cell_type": "code",
   "execution_count": 6,
   "id": "131a3a39",
   "metadata": {},
   "outputs": [],
   "source": [
    "if CONFIG.get(\"ALFRESCO_API_ENDPOINT\") is None or CONFIG.get(\"ALFRESCO_API_KEY\") is None:\n",
    "    raise Exception(\"Keys not detected\")\n",
    "else:\n",
    "    sipecam_alfresco = SipecamAlfresco(FILE_TYPE, CONFIG)"
   ]
  },
  {
   "cell_type": "markdown",
   "id": "e352b1ec",
   "metadata": {},
   "source": [
    "### Create your query"
   ]
  },
  {
   "cell_type": "markdown",
   "id": "880fc6a3",
   "metadata": {},
   "source": [
    "In this query we want to search for the video in the cumulus 92 that were deployed November"
   ]
  },
  {
   "cell_type": "markdown",
   "id": "e8b82bdb",
   "metadata": {},
   "source": [
    "When the object is created a first query is created:"
   ]
  },
  {
   "cell_type": "code",
   "execution_count": 7,
   "id": "320256e6",
   "metadata": {},
   "outputs": [
    {
     "data": {
      "text/plain": [
       "'+TYPE: \"sipecam:Video\"'"
      ]
     },
     "execution_count": 7,
     "metadata": {},
     "output_type": "execute_result"
    }
   ],
   "source": [
    "sipecam_alfresco.query"
   ]
  },
  {
   "cell_type": "markdown",
   "id": "f01c2c43",
   "metadata": {},
   "source": [
    "In order to add properties to the query, we can use the `SipecamAlfresco` method's `add_query_property`"
   ]
  },
  {
   "cell_type": "code",
   "execution_count": 8,
   "id": "0e7a1563",
   "metadata": {},
   "outputs": [],
   "source": [
    "sipecam_alfresco.add_query_property(property=\"CumulusName\", value=CUMULUS)"
   ]
  },
  {
   "cell_type": "code",
   "execution_count": 9,
   "id": "170e7c7b",
   "metadata": {},
   "outputs": [
    {
     "data": {
      "text/plain": [
       "'+TYPE: \"sipecam:Video\" AND +(sipecam:CumulusName:92)'"
      ]
     },
     "execution_count": 9,
     "metadata": {},
     "output_type": "execute_result"
    }
   ],
   "source": [
    "sipecam_alfresco.query"
   ]
  },
  {
   "cell_type": "markdown",
   "id": "9e4651eb",
   "metadata": {},
   "source": [
    "If it is desired to add a range date, the min and max date must be parsed using the following:"
   ]
  },
  {
   "cell_type": "code",
   "execution_count": 10,
   "id": "9f98faef",
   "metadata": {},
   "outputs": [],
   "source": [
    "sipecam_alfresco.add_query_property(property=\"DateDeployment\", value=parse_range_date_to_query_value(MIN_DATE, MAX_DATE))"
   ]
  },
  {
   "cell_type": "markdown",
   "id": "1b639771",
   "metadata": {},
   "source": [
    "And the result of the query will be:"
   ]
  },
  {
   "cell_type": "code",
   "execution_count": 11,
   "id": "b581f6f5",
   "metadata": {},
   "outputs": [
    {
     "data": {
      "text/plain": [
       "'+TYPE: \"sipecam:Video\" AND +(sipecam:CumulusName:92) AND +(sipecam:DateDeployment:[2021-11-01 TO 2021-12-01])'"
      ]
     },
     "execution_count": 11,
     "metadata": {},
     "output_type": "execute_result"
    }
   ],
   "source": [
    "sipecam_alfresco.query"
   ]
  },
  {
   "cell_type": "markdown",
   "id": "a7c2a36e",
   "metadata": {},
   "source": [
    "### Call Action to search"
   ]
  },
  {
   "cell_type": "code",
   "execution_count": 12,
   "id": "e2edf6e8",
   "metadata": {},
   "outputs": [],
   "source": [
    "sipecam_alfresco.set_output_path(OUTPUT_PATH)"
   ]
  },
  {
   "cell_type": "code",
   "execution_count": 13,
   "id": "6c9a0d47",
   "metadata": {},
   "outputs": [],
   "source": [
    "sipecam_alfresco.exahustive_search()"
   ]
  },
  {
   "cell_type": "code",
   "execution_count": 14,
   "id": "187e27b4",
   "metadata": {},
   "outputs": [],
   "source": [
    "sipecam_alfresco.extract_paths()"
   ]
  },
  {
   "cell_type": "markdown",
   "id": "7860c2f8",
   "metadata": {},
   "source": [
    "## Access to one object"
   ]
  },
  {
   "cell_type": "code",
   "execution_count": 15,
   "id": "1b6ee859",
   "metadata": {},
   "outputs": [],
   "source": [
    "import boto3\n",
    "import pandas as pd"
   ]
  },
  {
   "cell_type": "code",
   "execution_count": 16,
   "id": "4274ca53",
   "metadata": {},
   "outputs": [],
   "source": [
    "s3_client = boto3.client('s3')"
   ]
  },
  {
   "cell_type": "code",
   "execution_count": 17,
   "id": "9ec755ae",
   "metadata": {},
   "outputs": [
    {
     "data": {
      "text/plain": [
       "'../../../results/search/Video_path_extract.csv'"
      ]
     },
     "execution_count": 17,
     "metadata": {},
     "output_type": "execute_result"
    }
   ],
   "source": [
    "f\"{OUTPUT_PATH}/{FILE_TYPE}_path_extract.csv\""
   ]
  },
  {
   "cell_type": "code",
   "execution_count": 18,
   "id": "c1f127b2",
   "metadata": {},
   "outputs": [],
   "source": [
    "path_df = pd.read_csv(f\"{OUTPUT_PATH}/{FILE_TYPE}_path_extract.csv\")"
   ]
  },
  {
   "cell_type": "code",
   "execution_count": 19,
   "id": "dd4dbab0",
   "metadata": {},
   "outputs": [
    {
     "data": {
      "text/html": [
       "<div>\n",
       "<style scoped>\n",
       "    .dataframe tbody tr th:only-of-type {\n",
       "        vertical-align: middle;\n",
       "    }\n",
       "\n",
       "    .dataframe tbody tr th {\n",
       "        vertical-align: top;\n",
       "    }\n",
       "\n",
       "    .dataframe thead th {\n",
       "        text-align: right;\n",
       "    }\n",
       "</style>\n",
       "<table border=\"1\" class=\"dataframe\">\n",
       "  <thead>\n",
       "    <tr style=\"text-align: right;\">\n",
       "      <th></th>\n",
       "      <th>item</th>\n",
       "    </tr>\n",
       "  </thead>\n",
       "  <tbody>\n",
       "    <tr>\n",
       "      <th>0</th>\n",
       "      <td>data/92/3_92_0_1341/HLPXGM09048271/2021-11-14/...</td>\n",
       "    </tr>\n",
       "    <tr>\n",
       "      <th>1</th>\n",
       "      <td>data/92/3_92_0_1341/HLPXGM09048599/2021-11-14/...</td>\n",
       "    </tr>\n",
       "    <tr>\n",
       "      <th>2</th>\n",
       "      <td>data/92/3_92_0_1341/HLPXGM09048271/2021-11-14/...</td>\n",
       "    </tr>\n",
       "    <tr>\n",
       "      <th>3</th>\n",
       "      <td>data/92/3_92_0_1341/HLPXGM09048599/2021-11-14/...</td>\n",
       "    </tr>\n",
       "    <tr>\n",
       "      <th>4</th>\n",
       "      <td>data/92/3_92_1_1334/HLPXGM09048890/2021-11-13/...</td>\n",
       "    </tr>\n",
       "  </tbody>\n",
       "</table>\n",
       "</div>"
      ],
      "text/plain": [
       "                                                item\n",
       "0  data/92/3_92_0_1341/HLPXGM09048271/2021-11-14/...\n",
       "1  data/92/3_92_0_1341/HLPXGM09048599/2021-11-14/...\n",
       "2  data/92/3_92_0_1341/HLPXGM09048271/2021-11-14/...\n",
       "3  data/92/3_92_0_1341/HLPXGM09048599/2021-11-14/...\n",
       "4  data/92/3_92_1_1334/HLPXGM09048890/2021-11-13/..."
      ]
     },
     "execution_count": 19,
     "metadata": {},
     "output_type": "execute_result"
    }
   ],
   "source": [
    "path_df.head()"
   ]
  },
  {
   "cell_type": "markdown",
   "id": "f7632666",
   "metadata": {},
   "source": [
    "## See if the audio exists on the bucket"
   ]
  },
  {
   "cell_type": "code",
   "execution_count": 21,
   "id": "ed5040cd",
   "metadata": {},
   "outputs": [],
   "source": [
    "path = path_df[\"item\"][0]"
   ]
  },
  {
   "cell_type": "code",
   "execution_count": 22,
   "id": "0d2e2316",
   "metadata": {},
   "outputs": [
    {
     "name": "stdout",
     "output_type": "stream",
     "text": [
      "Key exists in the bucket.\n"
     ]
    }
   ],
   "source": [
    "result = s3_client.list_objects_v2(Bucket=BUCKET_NAME, Prefix=path)\n",
    "\n",
    "if 'Contents' in result:\n",
    "    print(\"Key exists in the bucket.\")\n",
    "    obj = s3_client.get_object(Bucket=BUCKET_NAME, Key=path)\n",
    "    # object_stream = obj['Body'].read()\n",
    "else:\n",
    "    print(\"Key doesn't exist in the bucket.\")"
   ]
  }
 ],
 "metadata": {
  "kernelspec": {
   "display_name": "Python 3 (ipykernel)",
   "language": "python",
   "name": "python3"
  },
  "language_info": {
   "codemirror_mode": {
    "name": "ipython",
    "version": 3
   },
   "file_extension": ".py",
   "mimetype": "text/x-python",
   "name": "python",
   "nbconvert_exporter": "python",
   "pygments_lexer": "ipython3",
   "version": "3.8.10"
  }
 },
 "nbformat": 4,
 "nbformat_minor": 5
}
