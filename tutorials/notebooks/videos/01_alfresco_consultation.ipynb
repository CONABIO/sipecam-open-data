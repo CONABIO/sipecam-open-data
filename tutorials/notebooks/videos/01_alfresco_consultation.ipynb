{
 "cells": [
  {
   "cell_type": "code",
   "execution_count": 9,
   "id": "b221da7d",
   "metadata": {},
   "outputs": [],
   "source": [
    "import os\n",
    "import json\n",
    "import numpy as np\n",
    "from dotenv import load_dotenv, dotenv_values"
   ]
  },
  {
   "cell_type": "markdown",
   "id": "71a1a302",
   "metadata": {},
   "source": [
    "## Functions"
   ]
  },
  {
   "cell_type": "markdown",
   "id": "5606e250",
   "metadata": {},
   "source": [
    "These functions are also in the conabio module"
   ]
  },
  {
   "cell_type": "code",
   "execution_count": 3,
   "id": "d5536fc9",
   "metadata": {},
   "outputs": [],
   "source": [
    "def login_alfresco(api_key):\n",
    "    import requests\n",
    "    \"\"\"\n",
    "    Creates a session in Alfresco\n",
    "    \n",
    "    Parameters\n",
    "    ----------\n",
    "    api_key : string\n",
    "        Api key that can come from the .env credentials\n",
    "\n",
    "    Return\n",
    "    ------\n",
    "    session : requests.Session\n",
    "    \"\"\"\n",
    "    try:\n",
    "        session = requests.Session()\n",
    "        session.headers.update({'x-api-key': api_key})\n",
    "\n",
    "        return session\n",
    "    except Exception as e:\n",
    "        print(\"Login failed: \", e)\n"
   ]
  },
  {
   "cell_type": "code",
   "execution_count": 30,
   "id": "b206a2ec",
   "metadata": {},
   "outputs": [],
   "source": [
    "def save_json(dictionary, file_path_name, overwrite=True):\n",
    "    \"\"\"\n",
    "    Save a dictionary\n",
    "    \n",
    "    Parameters\n",
    "    ----------\n",
    "    dictionary : dict\n",
    "    \n",
    "    file_path_name : string\n",
    "        Complete file path with the name of the file\n",
    "    \n",
    "    overwrite : boolean\n",
    "        Default is True\n",
    "    \"\"\"\n",
    "    # Serializing json\n",
    "    json_object = json.dumps(dictionary, indent=4)\n",
    "\n",
    "    outcome = \"w\"\n",
    "\n",
    "    if not overwrite:\n",
    "        outcome = \"w+\"\n",
    "\n",
    "    # Writing to sample.json\n",
    "    with open(f\"{file_path_name}\", outcome) as outfile:\n",
    "        outfile.write(json_object)"
   ]
  },
  {
   "cell_type": "markdown",
   "id": "e0f9ca12",
   "metadata": {},
   "source": [
    "### Load the environment set at the root (.env)"
   ]
  },
  {
   "cell_type": "code",
   "execution_count": 2,
   "id": "6733106c",
   "metadata": {},
   "outputs": [],
   "source": [
    "load_dotenv()\n",
    "CONFIG = dotenv_values()"
   ]
  },
  {
   "cell_type": "markdown",
   "id": "5b77f814",
   "metadata": {},
   "source": [
    "### Parameters"
   ]
  },
  {
   "cell_type": "code",
   "execution_count": 28,
   "id": "d001d735",
   "metadata": {},
   "outputs": [],
   "source": [
    "CUMULUS = 92\n",
    "DATE = \"2021-07-29T00:00:00.000+0000\" \n",
    "\n",
    "OUTPUT_PATH = \"../../results/search/\""
   ]
  },
  {
   "cell_type": "markdown",
   "id": "9a7777fe",
   "metadata": {},
   "source": [
    "### Constants"
   ]
  },
  {
   "cell_type": "code",
   "execution_count": 34,
   "id": "aaecd97f",
   "metadata": {},
   "outputs": [],
   "source": [
    "MAX_ITEMS = 5000\n",
    "FILE_TYPE = \"Audio\""
   ]
  },
  {
   "cell_type": "markdown",
   "id": "021a80e7",
   "metadata": {},
   "source": [
    "### Create your query"
   ]
  },
  {
   "cell_type": "markdown",
   "id": "a5a872c8",
   "metadata": {},
   "source": [
    "In this query we want to search for the audio in the cumulus 92 that were deployed in 29-02-2021"
   ]
  },
  {
   "cell_type": "code",
   "execution_count": 25,
   "id": "6708feae",
   "metadata": {},
   "outputs": [],
   "source": [
    "query =  f\"+TYPE: \\\"sipecam:{FILE_TYPE}\\\" AND (sipecam:CumulusName:\\\"{CUMULUS}\\\") AND (sipecam:DateDeployment:\\\"{DATE}\\\")\""
   ]
  },
  {
   "cell_type": "markdown",
   "id": "0c92fa58",
   "metadata": {},
   "source": [
    "### Call Action"
   ]
  },
  {
   "cell_type": "code",
   "execution_count": null,
   "id": "a6a31871",
   "metadata": {},
   "outputs": [],
   "source": [
    "if CONFIG.get(\"ALFRESCO_API_ENDPOINT\") is None or CONFIG.get(\"ALFRESCO_API_KEY\") is None:\n",
    "    raise Exception(\"Keys not detected\")\n",
    "else:    \n",
    "    skipcount = 0\n",
    "    end_of_pagination = False\n",
    "    saved_files = []\n",
    "    \n",
    "    # A cumulus can have more than the MAX_ITEMS allowed in the pagination, so\n",
    "    # a loop is necessary.\n",
    "    while not end_of_pagination:\n",
    "        \n",
    "        session = login_alfresco(CONFIG.get(\"ALFRESCO_API_KEY\"))\n",
    "\n",
    "        req = session.post(CONFIG.get(\"ALFRESCO_API_ENDPOINT\"),\n",
    "                           data=json.dumps({\n",
    "                               \"query\": {\n",
    "                                   \"query\": query,\n",
    "                                   \"language\": \"afts\"\n",
    "                               },\n",
    "                               \"include\": [\"properties\", \"path\"],\n",
    "                               \"sort\": [{\"type\": \"FIELD\", \"field\": \"cm:name\", \"ascending\": \"false\"}],\n",
    "                               \"paging\": {\n",
    "                                   \"maxItems\": MAX_ITEMS,\n",
    "                                   \"skipCount\": skipcount\n",
    "                               }\n",
    "                           })\n",
    "                        )\n",
    "\n",
    "        result = req.json()\n",
    "        \n",
    "        try:\n",
    "            if not result[\"list\"][\"pagination\"][\"hasMoreItems\"]:\n",
    "                end_of_pagination = True\n",
    "        except:\n",
    "            if result[\"error\"]:\n",
    "                raise Exception(result[\"error\"])\n",
    "\n",
    "        file_name = f\"{OUTPUT_PATH}/search_result_{FILE_TYPE}_{CUMULUS}_{skipcount}.json\"\n",
    "        # Every pagination will be saved as a json\n",
    "        save_json(result, file_name)\n",
    "        saved_files.append(file_name)\n",
    "        skipcount += MAX_ITEMS"
   ]
  }
 ],
 "metadata": {
  "kernelspec": {
   "display_name": "Python 3 (ipykernel)",
   "language": "python",
   "name": "python3"
  },
  "language_info": {
   "codemirror_mode": {
    "name": "ipython",
    "version": 3
   },
   "file_extension": ".py",
   "mimetype": "text/x-python",
   "name": "python",
   "nbconvert_exporter": "python",
   "pygments_lexer": "ipython3",
   "version": "3.8.10"
  }
 },
 "nbformat": 4,
 "nbformat_minor": 5
}
